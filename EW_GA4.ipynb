{
  "nbformat": 4,
  "nbformat_minor": 0,
  "metadata": {
    "colab": {
      "provenance": [],
      "authorship_tag": "ABX9TyOygeyy7TdIZaeIICXXscGz",
      "include_colab_link": true
    },
    "kernelspec": {
      "name": "python3",
      "display_name": "Python 3"
    },
    "language_info": {
      "name": "python"
    }
  },
  "cells": [
    {
      "cell_type": "markdown",
      "metadata": {
        "id": "view-in-github",
        "colab_type": "text"
      },
      "source": [
        "<a href=\"https://colab.research.google.com/github/NarmadhaJayasankar/Covidapp/blob/feature/EW_GA4.ipynb\" target=\"_parent\"><img src=\"https://colab.research.google.com/assets/colab-badge.svg\" alt=\"Open In Colab\"/></a>"
      ]
    },
    {
      "cell_type": "code",
      "execution_count": 3,
      "metadata": {
        "colab": {
          "base_uri": "https://localhost:8080/"
        },
        "id": "9YadL-LddqiL",
        "outputId": "cbc81cc8-a60c-411b-b632-dc3bc9459ca0"
      },
      "outputs": [
        {
          "output_type": "stream",
          "name": "stdout",
          "text": [
            "Requirement already satisfied: requests in /usr/local/lib/python3.10/dist-packages (2.31.0)\n",
            "Requirement already satisfied: pandas in /usr/local/lib/python3.10/dist-packages (1.5.3)\n",
            "Requirement already satisfied: sqlalchemy in /usr/local/lib/python3.10/dist-packages (2.0.23)\n",
            "Requirement already satisfied: charset-normalizer<4,>=2 in /usr/local/lib/python3.10/dist-packages (from requests) (3.3.2)\n",
            "Requirement already satisfied: idna<4,>=2.5 in /usr/local/lib/python3.10/dist-packages (from requests) (3.6)\n",
            "Requirement already satisfied: urllib3<3,>=1.21.1 in /usr/local/lib/python3.10/dist-packages (from requests) (2.0.7)\n",
            "Requirement already satisfied: certifi>=2017.4.17 in /usr/local/lib/python3.10/dist-packages (from requests) (2023.11.17)\n",
            "Requirement already satisfied: python-dateutil>=2.8.1 in /usr/local/lib/python3.10/dist-packages (from pandas) (2.8.2)\n",
            "Requirement already satisfied: pytz>=2020.1 in /usr/local/lib/python3.10/dist-packages (from pandas) (2023.3.post1)\n",
            "Requirement already satisfied: numpy>=1.21.0 in /usr/local/lib/python3.10/dist-packages (from pandas) (1.23.5)\n",
            "Requirement already satisfied: typing-extensions>=4.2.0 in /usr/local/lib/python3.10/dist-packages (from sqlalchemy) (4.5.0)\n",
            "Requirement already satisfied: greenlet!=0.4.17 in /usr/local/lib/python3.10/dist-packages (from sqlalchemy) (3.0.2)\n",
            "Requirement already satisfied: six>=1.5 in /usr/local/lib/python3.10/dist-packages (from python-dateutil>=2.8.1->pandas) (1.16.0)\n"
          ]
        }
      ],
      "source": [
        "pip install requests pandas sqlalchemy\n"
      ]
    },
    {
      "cell_type": "code",
      "source": [
        "from sqlalchemy import create_engine\n",
        "import requests\n",
        "import pandas as pd\n",
        "from sqlalchemy import create_engine\n",
        "\n",
        "# Rest of your code remains the same\n"
      ],
      "metadata": {
        "id": "WNTtEPBA-snD"
      },
      "execution_count": 4,
      "outputs": []
    },
    {
      "cell_type": "code",
      "source": [
        "import requests\n",
        "import pandas as pd\n",
        "from sqlalchemy import create_engine\n",
        "json_api_url = \"https://connectors.windsor.ai/all?api_key=a08773c49de68206ec3bcbff003f45f1e4d3&date_preset=last_7d&fields=account_name,campaign,date,sessions,source\"\n",
        "response = requests.get(json_api_url)\n",
        "data_json = response.json()\n",
        "df = pd.DataFrame(data_json)\n",
        "#converting json data into dataframe\n",
        "# SQL Server connection parameters\n",
        "db_username = 'sa'\n",
        "db_password = 'Welcome@#123'\n",
        "db_server = 'CESIT-LAP-0339'\n",
        "db_name = 'your_database_name'\n",
        "engine = create_engine(f\"mssql+pyodbc://{db_username}:{db_password}@{db_server}/{db_name}?driver=ODBC+Driver+17+for+SQL+Server\")\n",
        "table_name = 'your_table_name'\n",
        "df.to_sql(table_name, con=engine, if_exists='replace', index=False)\n",
        "print(f\"Data successfully transferred to SQL Server table '{table_name}'\")\n"
      ],
      "metadata": {
        "colab": {
          "base_uri": "https://localhost:8080/",
          "height": 530
        },
        "id": "HNENV2X2q_V9",
        "outputId": "b24a691b-877d-4e81-f2f1-2289cb83414c"
      },
      "execution_count": 7,
      "outputs": [
        {
          "output_type": "error",
          "ename": "ModuleNotFoundError",
          "evalue": "ignored",
          "traceback": [
            "\u001b[0;31m---------------------------------------------------------------------------\u001b[0m",
            "\u001b[0;31mModuleNotFoundError\u001b[0m                       Traceback (most recent call last)",
            "\u001b[0;32m<ipython-input-7-bb1d19b742e4>\u001b[0m in \u001b[0;36m<cell line: 14>\u001b[0;34m()\u001b[0m\n\u001b[1;32m     12\u001b[0m \u001b[0mdb_server\u001b[0m \u001b[0;34m=\u001b[0m \u001b[0;34m'CESIT-LAP-0339'\u001b[0m\u001b[0;34m\u001b[0m\u001b[0;34m\u001b[0m\u001b[0m\n\u001b[1;32m     13\u001b[0m \u001b[0mdb_name\u001b[0m \u001b[0;34m=\u001b[0m \u001b[0;34m'your_database_name'\u001b[0m\u001b[0;34m\u001b[0m\u001b[0;34m\u001b[0m\u001b[0m\n\u001b[0;32m---> 14\u001b[0;31m \u001b[0mengine\u001b[0m \u001b[0;34m=\u001b[0m \u001b[0mcreate_engine\u001b[0m\u001b[0;34m(\u001b[0m\u001b[0;34mf\"mssql+pyodbc://{db_username}:{db_password}@{db_server}/{db_name}?driver=ODBC+Driver+17+for+SQL+Server\"\u001b[0m\u001b[0;34m)\u001b[0m\u001b[0;34m\u001b[0m\u001b[0;34m\u001b[0m\u001b[0m\n\u001b[0m\u001b[1;32m     15\u001b[0m \u001b[0mtable_name\u001b[0m \u001b[0;34m=\u001b[0m \u001b[0;34m'your_table_name'\u001b[0m\u001b[0;34m\u001b[0m\u001b[0;34m\u001b[0m\u001b[0m\n\u001b[1;32m     16\u001b[0m \u001b[0mdf\u001b[0m\u001b[0;34m.\u001b[0m\u001b[0mto_sql\u001b[0m\u001b[0;34m(\u001b[0m\u001b[0mtable_name\u001b[0m\u001b[0;34m,\u001b[0m \u001b[0mcon\u001b[0m\u001b[0;34m=\u001b[0m\u001b[0mengine\u001b[0m\u001b[0;34m,\u001b[0m \u001b[0mif_exists\u001b[0m\u001b[0;34m=\u001b[0m\u001b[0;34m'replace'\u001b[0m\u001b[0;34m,\u001b[0m \u001b[0mindex\u001b[0m\u001b[0;34m=\u001b[0m\u001b[0;32mFalse\u001b[0m\u001b[0;34m)\u001b[0m\u001b[0;34m\u001b[0m\u001b[0;34m\u001b[0m\u001b[0m\n",
            "\u001b[0;32m/usr/local/lib/python3.10/dist-packages/sqlalchemy/engine/create.py\u001b[0m in \u001b[0;36mcreate_engine\u001b[0;34m(url, **kwargs)\u001b[0m\n",
            "\u001b[0;32m/usr/local/lib/python3.10/dist-packages/sqlalchemy/util/deprecations.py\u001b[0m in \u001b[0;36mwarned\u001b[0;34m(fn, *args, **kwargs)\u001b[0m\n\u001b[1;32m    279\u001b[0m                         \u001b[0mstacklevel\u001b[0m\u001b[0;34m=\u001b[0m\u001b[0;36m3\u001b[0m\u001b[0;34m,\u001b[0m\u001b[0;34m\u001b[0m\u001b[0;34m\u001b[0m\u001b[0m\n\u001b[1;32m    280\u001b[0m                     )\n\u001b[0;32m--> 281\u001b[0;31m             \u001b[0;32mreturn\u001b[0m \u001b[0mfn\u001b[0m\u001b[0;34m(\u001b[0m\u001b[0;34m*\u001b[0m\u001b[0margs\u001b[0m\u001b[0;34m,\u001b[0m \u001b[0;34m**\u001b[0m\u001b[0mkwargs\u001b[0m\u001b[0;34m)\u001b[0m  \u001b[0;31m# type: ignore[no-any-return]\u001b[0m\u001b[0;34m\u001b[0m\u001b[0;34m\u001b[0m\u001b[0m\n\u001b[0m\u001b[1;32m    282\u001b[0m \u001b[0;34m\u001b[0m\u001b[0m\n\u001b[1;32m    283\u001b[0m         \u001b[0mdoc\u001b[0m \u001b[0;34m=\u001b[0m \u001b[0mfn\u001b[0m\u001b[0;34m.\u001b[0m\u001b[0m__doc__\u001b[0m \u001b[0;32mis\u001b[0m \u001b[0;32mnot\u001b[0m \u001b[0;32mNone\u001b[0m \u001b[0;32mand\u001b[0m \u001b[0mfn\u001b[0m\u001b[0;34m.\u001b[0m\u001b[0m__doc__\u001b[0m \u001b[0;32mor\u001b[0m \u001b[0;34m\"\"\u001b[0m\u001b[0;34m\u001b[0m\u001b[0;34m\u001b[0m\u001b[0m\n",
            "\u001b[0;32m/usr/local/lib/python3.10/dist-packages/sqlalchemy/engine/create.py\u001b[0m in \u001b[0;36mcreate_engine\u001b[0;34m(url, **kwargs)\u001b[0m\n\u001b[1;32m    599\u001b[0m             \u001b[0;32mif\u001b[0m \u001b[0mk\u001b[0m \u001b[0;32min\u001b[0m \u001b[0mkwargs\u001b[0m\u001b[0;34m:\u001b[0m\u001b[0;34m\u001b[0m\u001b[0;34m\u001b[0m\u001b[0m\n\u001b[1;32m    600\u001b[0m                 \u001b[0mdbapi_args\u001b[0m\u001b[0;34m[\u001b[0m\u001b[0mk\u001b[0m\u001b[0;34m]\u001b[0m \u001b[0;34m=\u001b[0m \u001b[0mpop_kwarg\u001b[0m\u001b[0;34m(\u001b[0m\u001b[0mk\u001b[0m\u001b[0;34m)\u001b[0m\u001b[0;34m\u001b[0m\u001b[0;34m\u001b[0m\u001b[0m\n\u001b[0;32m--> 601\u001b[0;31m         \u001b[0mdbapi\u001b[0m \u001b[0;34m=\u001b[0m \u001b[0mdbapi_meth\u001b[0m\u001b[0;34m(\u001b[0m\u001b[0;34m**\u001b[0m\u001b[0mdbapi_args\u001b[0m\u001b[0;34m)\u001b[0m\u001b[0;34m\u001b[0m\u001b[0;34m\u001b[0m\u001b[0m\n\u001b[0m\u001b[1;32m    602\u001b[0m \u001b[0;34m\u001b[0m\u001b[0m\n\u001b[1;32m    603\u001b[0m     \u001b[0mdialect_args\u001b[0m\u001b[0;34m[\u001b[0m\u001b[0;34m\"dbapi\"\u001b[0m\u001b[0;34m]\u001b[0m \u001b[0;34m=\u001b[0m \u001b[0mdbapi\u001b[0m\u001b[0;34m\u001b[0m\u001b[0;34m\u001b[0m\u001b[0m\n",
            "\u001b[0;32m/usr/local/lib/python3.10/dist-packages/sqlalchemy/connectors/pyodbc.py\u001b[0m in \u001b[0;36mimport_dbapi\u001b[0;34m(cls)\u001b[0m\n\u001b[1;32m     58\u001b[0m     \u001b[0;34m@\u001b[0m\u001b[0mclassmethod\u001b[0m\u001b[0;34m\u001b[0m\u001b[0;34m\u001b[0m\u001b[0m\n\u001b[1;32m     59\u001b[0m     \u001b[0;32mdef\u001b[0m \u001b[0mimport_dbapi\u001b[0m\u001b[0;34m(\u001b[0m\u001b[0mcls\u001b[0m\u001b[0;34m)\u001b[0m \u001b[0;34m->\u001b[0m \u001b[0mModuleType\u001b[0m\u001b[0;34m:\u001b[0m\u001b[0;34m\u001b[0m\u001b[0;34m\u001b[0m\u001b[0m\n\u001b[0;32m---> 60\u001b[0;31m         \u001b[0;32mreturn\u001b[0m \u001b[0m__import__\u001b[0m\u001b[0;34m(\u001b[0m\u001b[0;34m\"pyodbc\"\u001b[0m\u001b[0;34m)\u001b[0m\u001b[0;34m\u001b[0m\u001b[0;34m\u001b[0m\u001b[0m\n\u001b[0m\u001b[1;32m     61\u001b[0m \u001b[0;34m\u001b[0m\u001b[0m\n\u001b[1;32m     62\u001b[0m     \u001b[0;32mdef\u001b[0m \u001b[0mcreate_connect_args\u001b[0m\u001b[0;34m(\u001b[0m\u001b[0mself\u001b[0m\u001b[0;34m,\u001b[0m \u001b[0murl\u001b[0m\u001b[0;34m:\u001b[0m \u001b[0mURL\u001b[0m\u001b[0;34m)\u001b[0m \u001b[0;34m->\u001b[0m \u001b[0mConnectArgsType\u001b[0m\u001b[0;34m:\u001b[0m\u001b[0;34m\u001b[0m\u001b[0;34m\u001b[0m\u001b[0m\n",
            "\u001b[0;31mModuleNotFoundError\u001b[0m: No module named 'pyodbc'",
            "",
            "\u001b[0;31m---------------------------------------------------------------------------\u001b[0;32m\nNOTE: If your import is failing due to a missing package, you can\nmanually install dependencies using either !pip or !apt.\n\nTo view examples of installing some common dependencies, click the\n\"Open Examples\" button below.\n\u001b[0;31m---------------------------------------------------------------------------\u001b[0m\n"
          ],
          "errorDetails": {
            "actions": [
              {
                "action": "open_url",
                "actionText": "Open Examples",
                "url": "/notebooks/snippets/importing_libraries.ipynb"
              }
            ]
          }
        }
      ]
    },
    {
      "cell_type": "code",
      "source": [],
      "metadata": {
        "id": "lHzFNG8vBVIz"
      },
      "execution_count": null,
      "outputs": []
    },
    {
      "cell_type": "code",
      "source": [
        "pip install pyodbc"
      ],
      "metadata": {
        "colab": {
          "base_uri": "https://localhost:8080/"
        },
        "id": "uxXck2k-BUzu",
        "outputId": "2261ae1e-32b4-449c-f8d8-f68185cc0365"
      },
      "execution_count": 9,
      "outputs": [
        {
          "output_type": "stream",
          "name": "stdout",
          "text": [
            "Collecting pyodbc\n",
            "  Downloading pyodbc-5.0.1-cp310-cp310-manylinux_2_17_x86_64.manylinux2014_x86_64.whl (334 kB)\n",
            "\u001b[?25l     \u001b[90m━━━━━━━━━━━━━━━━━━━━━━━━━━━━━━━━━━━━━━━━\u001b[0m \u001b[32m0.0/334.8 kB\u001b[0m \u001b[31m?\u001b[0m eta \u001b[36m-:--:--\u001b[0m\r\u001b[2K     \u001b[91m━━━━━━━\u001b[0m\u001b[90m╺\u001b[0m\u001b[90m━━━━━━━━━━━━━━━━━━━━━━━━━━━━━━━━\u001b[0m \u001b[32m61.4/334.8 kB\u001b[0m \u001b[31m1.9 MB/s\u001b[0m eta \u001b[36m0:00:01\u001b[0m\r\u001b[2K     \u001b[90m━━━━━━━━━━━━━━━━━━━━━━━━━━━━━━━━━━━━━━━━\u001b[0m \u001b[32m334.8/334.8 kB\u001b[0m \u001b[31m5.0 MB/s\u001b[0m eta \u001b[36m0:00:00\u001b[0m\n",
            "\u001b[?25hInstalling collected packages: pyodbc\n",
            "Successfully installed pyodbc-5.0.1\n"
          ]
        }
      ]
    },
    {
      "cell_type": "code",
      "source": [
        "odbcinst -q -d -n \"ODBC Driver 17 for SQL Server\"\n"
      ],
      "metadata": {
        "colab": {
          "base_uri": "https://localhost:8080/",
          "height": 141
        },
        "id": "OF6bB29RDYJ3",
        "outputId": "543571cf-0061-4e02-b84a-80949ead3767"
      },
      "execution_count": 14,
      "outputs": [
        {
          "output_type": "error",
          "ename": "SyntaxError",
          "evalue": "ignored",
          "traceback": [
            "\u001b[0;36m  File \u001b[0;32m\"<ipython-input-14-8d24da3ac6e5>\"\u001b[0;36m, line \u001b[0;32m1\u001b[0m\n\u001b[0;31m    odbcinst -q -d -n \"ODBC Driver 17 for SQL Server\"\u001b[0m\n\u001b[0m                      ^\u001b[0m\n\u001b[0;31mSyntaxError\u001b[0m\u001b[0;31m:\u001b[0m invalid syntax\n"
          ]
        }
      ]
    },
    {
      "cell_type": "code",
      "source": [],
      "metadata": {
        "id": "yFkOPOmNDXrn"
      },
      "execution_count": null,
      "outputs": []
    },
    {
      "cell_type": "code",
      "source": [
        "import requests\n",
        "import pyodbc\n",
        "import pandas as pd\n",
        "import json\n",
        "from datetime import datetime\n",
        "start_time = datetime.now()\n",
        "api_url = \"https://connectors.windsor.ai/all?api_key=a08773c49de68206ec3bcbff003f45f1e4d3&date_preset=last_7d&fields=account_name,campaign,date,sessions,source\"\n",
        "database = 'Narma'\n",
        "username = 'sa'\n",
        "password = 'Welcome@#123'\n",
        "dsn = '15.0.2000'\n",
        "db_connection_string = f'DSN={dsn};DATABASE={database};UID={username};PWD={password}'\n",
        "connection = pyodbc.connect(db_connection_string)\n",
        "cursor = connection.cursor()\n",
        "response = requests.get(api_url)\n",
        "results = response.json()\n",
        "json_objects=[]\n",
        "if response.status_code == 200:\n",
        "    for row in results[\"data\"]:\n",
        "        json_objects.append(row)\n",
        "    json_array = json.dumps(json_objects)\n",
        "    data_list = json.loads(json_array)\n",
        "    column_data_types = {}\n",
        "    for record in data_list:\n",
        "        for key, value in record.items():\n",
        "            if key not in column_data_types:\n",
        "                column_data_types[key] = type(value).__name__\n",
        "    df = pd.DataFrame(data_list)\n",
        "    df.isna()\n",
        "    df.fillna(0, inplace=True)\n",
        "    table_name = \"googleanalytics_sessions\"\n",
        "    cursor.execute(f\"SELECT column_name, data_type FROM information_schema.columns WHERE table_name = '{table_name}'\")\n",
        "    column_data_types = {row[0]: row[1] for row in cursor.fetchall()}\n",
        "    df_copy=df.copy()\n",
        "    for column_name, data_type in column_data_types.items():\n",
        "        if data_type == 'integer':\n",
        "            df_copy[column_name] = df_copy[column_name].astype(int)\n",
        "        elif data_type == 'text':\n",
        "            df_copy[column_name] = df_copy[column_name].astype(str)\n",
        "    print(df_copy.columns)\n",
        "    for index, row in df_copy.iterrows():\n",
        "        columns = ', '.join(df_copy.columns)\n",
        "        placeholders = ', '.join(['?' for _ in df_copy.columns])\n",
        "        values = [row[column_name] for column_name in df_copy.columns]\n",
        "        insert_statement = f\"INSERT INTO {table_name} ({columns}) VALUES ({placeholders})\"\n",
        "        cursor.execute(insert_statement, values)\n",
        "    connection.commit()\n",
        "    pass\n",
        "else:\n",
        "    print(f\"Error: {response.status_code} - {response.text}\")\n",
        "cursor.close()\n",
        "connection.close()\n",
        "end_time = datetime.now()\n",
        "elapsed_time = end_time-start_time\n",
        "print(f\"Data got inserted to the table: {table_name} with elapsed time: {elapsed_time}\")"
      ],
      "metadata": {
        "colab": {
          "base_uri": "https://localhost:8080/",
          "height": 245
        },
        "id": "KduLTxt4A2Ic",
        "outputId": "66e5f0b8-133a-4337-98f4-17da81601329"
      },
      "execution_count": 13,
      "outputs": [
        {
          "output_type": "error",
          "ename": "InterfaceError",
          "evalue": "ignored",
          "traceback": [
            "\u001b[0;31m---------------------------------------------------------------------------\u001b[0m",
            "\u001b[0;31mInterfaceError\u001b[0m                            Traceback (most recent call last)",
            "\u001b[0;32m<ipython-input-13-211d4c5af0e2>\u001b[0m in \u001b[0;36m<cell line: 13>\u001b[0;34m()\u001b[0m\n\u001b[1;32m     11\u001b[0m \u001b[0mdsn\u001b[0m \u001b[0;34m=\u001b[0m \u001b[0;34m'15.0.2000'\u001b[0m\u001b[0;34m\u001b[0m\u001b[0;34m\u001b[0m\u001b[0m\n\u001b[1;32m     12\u001b[0m \u001b[0mdb_connection_string\u001b[0m \u001b[0;34m=\u001b[0m \u001b[0;34mf'DSN={dsn};DATABASE={database};UID={username};PWD={password}'\u001b[0m\u001b[0;34m\u001b[0m\u001b[0;34m\u001b[0m\u001b[0m\n\u001b[0;32m---> 13\u001b[0;31m \u001b[0mconnection\u001b[0m \u001b[0;34m=\u001b[0m \u001b[0mpyodbc\u001b[0m\u001b[0;34m.\u001b[0m\u001b[0mconnect\u001b[0m\u001b[0;34m(\u001b[0m\u001b[0mdb_connection_string\u001b[0m\u001b[0;34m)\u001b[0m\u001b[0;34m\u001b[0m\u001b[0;34m\u001b[0m\u001b[0m\n\u001b[0m\u001b[1;32m     14\u001b[0m \u001b[0mcursor\u001b[0m \u001b[0;34m=\u001b[0m \u001b[0mconnection\u001b[0m\u001b[0;34m.\u001b[0m\u001b[0mcursor\u001b[0m\u001b[0;34m(\u001b[0m\u001b[0;34m)\u001b[0m\u001b[0;34m\u001b[0m\u001b[0;34m\u001b[0m\u001b[0m\n\u001b[1;32m     15\u001b[0m \u001b[0mresponse\u001b[0m \u001b[0;34m=\u001b[0m \u001b[0mrequests\u001b[0m\u001b[0;34m.\u001b[0m\u001b[0mget\u001b[0m\u001b[0;34m(\u001b[0m\u001b[0mapi_url\u001b[0m\u001b[0;34m)\u001b[0m\u001b[0;34m\u001b[0m\u001b[0;34m\u001b[0m\u001b[0m\n",
            "\u001b[0;31mInterfaceError\u001b[0m: ('IM002', '[IM002] [unixODBC][Driver Manager]Data source name not found and no default driver specified (0) (SQLDriverConnect)')"
          ]
        }
      ]
    },
    {
      "cell_type": "code",
      "source": [
        "import pyodbc\n",
        "import requests\n",
        "import pandas as pd\n",
        "import json\n",
        "from datetime import datetime\n",
        "\n",
        "start_time = datetime.now()\n",
        "api_url = \"https://connectors.windsor.ai/all?api_key=a08773c49de68206ec3bcbff003f45f1e4d3&date_preset=last_7d&fields=account_name,campaign,date,sessions,source\"\n",
        "database = 'Narma'\n",
        "username = 'sa'\n",
        "password = 'Welcome@#123'\n",
        "dsn = 'SQLServer_Local'  # Update with your DSN name\n",
        "\n",
        "# Create the ODBC connection string\n",
        "db_connection_string = f'DSN={dsn};DATABASE={database};UID={username};PWD={password}'\n",
        "\n",
        "# Connect to the SQL Server\n",
        "try:\n",
        "    connection = pyodbc.connect(db_connection_string)\n",
        "    cursor = connection.cursor()\n",
        "except pyodbc.Error as e:\n",
        "    print(f\"Error connecting to the database: {e}\")\n",
        "    exit()\n",
        "\n",
        "# Fetch data from the JSON API\n",
        "response = requests.get(api_url)\n",
        "results = response.json()\n",
        "\n",
        "# Check if the response is successful\n",
        "if response.status_code == 200:\n",
        "    # Convert JSON data to DataFrame\n",
        "    df = pd.DataFrame(results.get(\"data\", []))\n",
        "\n",
        "    # Handle NaN values\n",
        "    df.fillna(0, inplace=True)\n",
        "\n",
        "    # Fetch column data types from the SQL Server table\n",
        "    table_name = \"googleanalytics_sessions\"  # Update with your table name\n",
        "    cursor.execute(f\"SELECT column_name, data_type FROM information_schema.columns WHERE table_name = '{table_name}'\")\n",
        "    column_data_types = {row[0]: row[1] for row in cursor.fetchall()}\n",
        "\n",
        "    # Adjust DataFrame column types based on SQL Server table\n",
        "    for column_name, data_type in column_data_types.items():\n",
        "        if data_type == 'int':\n",
        "            df[column_name] = df[column_name].astype(int)\n",
        "        elif data_type == 'nvarchar':\n",
        "            df[column_name] = df[column_name].astype(str)\n",
        "\n",
        "    # Insert data into the SQL Server table\n",
        "    for index, row in df.iterrows():\n",
        "        columns = ', '.join(df.columns)\n",
        "        placeholders = ', '.join(['?' for _ in df.columns])\n",
        "        values = [row[column_name] for column_name in df.columns]\n",
        "        insert_statement = f\"INSERT INTO {table_name} ({columns}) VALUES ({placeholders})\"\n",
        "        cursor.execute(insert_statement, values)\n",
        "\n",
        "    # Commit the changes\n",
        "    connection.commit()\n",
        "\n",
        "    print(f\"Data successfully inserted into the table: {table_name}\")\n",
        "else:\n",
        "    print(f\"Error: {response.status_code} - {response.text}\")\n",
        "\n",
        "# Close the cursor and connection\n",
        "cursor.close()\n",
        "connection.close()\n",
        "\n",
        "end_time = datetime.now()\n",
        "elapsed_time = end_time - start_time\n",
        "print(f\"Elapsed time: {elapsed_time}\")\n"
      ],
      "metadata": {
        "colab": {
          "base_uri": "https://localhost:8080/",
          "height": 283
        },
        "id": "ekb3A65TDvUN",
        "outputId": "342da7a6-da22-415a-9307-3e503599f58f"
      },
      "execution_count": 15,
      "outputs": [
        {
          "output_type": "stream",
          "name": "stdout",
          "text": [
            "Error connecting to the database: ('IM002', '[IM002] [unixODBC][Driver Manager]Data source name not found and no default driver specified (0) (SQLDriverConnect)')\n"
          ]
        },
        {
          "output_type": "error",
          "ename": "NameError",
          "evalue": "ignored",
          "traceback": [
            "\u001b[0;31m---------------------------------------------------------------------------\u001b[0m",
            "\u001b[0;31mNameError\u001b[0m                                 Traceback (most recent call last)",
            "\u001b[0;32m<ipython-input-15-3e7fec6981a9>\u001b[0m in \u001b[0;36m<cell line: 30>\u001b[0;34m()\u001b[0m\n\u001b[1;32m     37\u001b[0m     \u001b[0;31m# Fetch column data types from the SQL Server table\u001b[0m\u001b[0;34m\u001b[0m\u001b[0;34m\u001b[0m\u001b[0m\n\u001b[1;32m     38\u001b[0m     \u001b[0mtable_name\u001b[0m \u001b[0;34m=\u001b[0m \u001b[0;34m\"googleanalytics_sessions\"\u001b[0m  \u001b[0;31m# Update with your table name\u001b[0m\u001b[0;34m\u001b[0m\u001b[0;34m\u001b[0m\u001b[0m\n\u001b[0;32m---> 39\u001b[0;31m     \u001b[0mcursor\u001b[0m\u001b[0;34m.\u001b[0m\u001b[0mexecute\u001b[0m\u001b[0;34m(\u001b[0m\u001b[0;34mf\"SELECT column_name, data_type FROM information_schema.columns WHERE table_name = '{table_name}'\"\u001b[0m\u001b[0;34m)\u001b[0m\u001b[0;34m\u001b[0m\u001b[0;34m\u001b[0m\u001b[0m\n\u001b[0m\u001b[1;32m     40\u001b[0m     \u001b[0mcolumn_data_types\u001b[0m \u001b[0;34m=\u001b[0m \u001b[0;34m{\u001b[0m\u001b[0mrow\u001b[0m\u001b[0;34m[\u001b[0m\u001b[0;36m0\u001b[0m\u001b[0;34m]\u001b[0m\u001b[0;34m:\u001b[0m \u001b[0mrow\u001b[0m\u001b[0;34m[\u001b[0m\u001b[0;36m1\u001b[0m\u001b[0;34m]\u001b[0m \u001b[0;32mfor\u001b[0m \u001b[0mrow\u001b[0m \u001b[0;32min\u001b[0m \u001b[0mcursor\u001b[0m\u001b[0;34m.\u001b[0m\u001b[0mfetchall\u001b[0m\u001b[0;34m(\u001b[0m\u001b[0;34m)\u001b[0m\u001b[0;34m}\u001b[0m\u001b[0;34m\u001b[0m\u001b[0;34m\u001b[0m\u001b[0m\n\u001b[1;32m     41\u001b[0m \u001b[0;34m\u001b[0m\u001b[0m\n",
            "\u001b[0;31mNameError\u001b[0m: name 'cursor' is not defined"
          ]
        }
      ]
    },
    {
      "cell_type": "code",
      "source": [
        "import pyodbc\n",
        "import requests\n",
        "import pandas as pd\n",
        "import json\n",
        "from datetime import datetime\n",
        "\n",
        "start_time = datetime.now()\n",
        "api_url = \"https://connectors.windsor.ai/all?api_key=a08773c49de68206ec3bcbff003f45f1e4d3&date_preset=last_7d&fields=account_name,campaign,date,sessions,source\"\n",
        "database = 'Narma'\n",
        "username = 'sa'\n",
        "password = 'Welcome@#123'\n",
        "dsn = 'SQLServer_Local'  # Update with your DSN name\n",
        "\n",
        "# Create the ODBC connection string\n",
        "db_connection_string = f'DSN={dsn};DATABASE={database};UID={username};PWD={password}'\n",
        "\n",
        "# Initialize cursor variable outside the try block\n",
        "cursor = None\n",
        "\n",
        "# Connect to the SQL Server\n",
        "try:\n",
        "    connection = pyodbc.connect(db_connection_string)\n",
        "    cursor = connection.cursor()\n",
        "except pyodbc.Error as e:\n",
        "    print(f\"Error connecting to the database: {e}\")\n",
        "    exit()\n",
        "\n",
        "# Fetch data from the JSON API\n",
        "response = requests.get(api_url)\n",
        "results = response.json()\n",
        "\n",
        "# Check if the response is successful\n",
        "if response.status_code == 200:\n",
        "    # Convert JSON data to DataFrame\n",
        "    df = pd.DataFrame(results.get(\"data\", []))\n",
        "\n",
        "    # Handle NaN values\n",
        "    df.fillna(0, inplace=True)\n",
        "\n",
        "    # Fetch column data types from the SQL Server table\n",
        "    table_name = \"googleanalytics_sessions\"  # Update with your table name\n",
        "    cursor.execute(f\"SELECT column_name, data_type FROM information_schema.columns WHERE table_name = '{table_name}'\")\n",
        "    column_data_types = {row[0]: row[1] for row in cursor.fetchall()}\n",
        "\n",
        "    # Adjust DataFrame column types based on SQL Server table\n",
        "    for column_name, data_type in column_data_types.items():\n",
        "        if data_type == 'int':\n",
        "            df[column_name] = df[column_name].astype(int)\n",
        "        elif data_type == 'nvarchar':\n",
        "            df[column_name] = df[column_name].astype(str)\n",
        "\n",
        "    # Insert data into the SQL Server table\n",
        "    for index, row in df.iterrows():\n",
        "        columns = ', '.join(df.columns)\n",
        "        placeholders = ', '.join(['?' for _ in df.columns])\n",
        "        values = [row[column_name] for column_name in df.columns]\n",
        "        insert_statement = f\"INSERT INTO {table_name} ({columns}) VALUES ({placeholders})\"\n",
        "        cursor.execute(insert_statement, values)\n",
        "\n",
        "    # Commit the changes\n",
        "    connection.commit()\n",
        "\n",
        "    print(f\"Data successfully inserted into the table: {table_name}\")\n",
        "else:\n",
        "    print(f\"Error: {response.status_code} - {response.text}\")\n",
        "\n",
        "# Close the cursor and connection\n",
        "if cursor:\n",
        "    cursor.close()\n",
        "connection.close()\n",
        "\n",
        "end_time = datetime.now()\n",
        "elapsed_time = end_time - start_time\n",
        "print(f\"Elapsed time: {elapsed_time}\")\n"
      ],
      "metadata": {
        "colab": {
          "base_uri": "https://localhost:8080/",
          "height": 283
        },
        "id": "ClsoE1E9EAxW",
        "outputId": "3d9a20ad-8493-49fb-e4d9-d4a2c2d353bb"
      },
      "execution_count": 1,
      "outputs": [
        {
          "output_type": "stream",
          "name": "stdout",
          "text": [
            "Error connecting to the database: ('IM002', '[IM002] [unixODBC][Driver Manager]Data source name not found and no default driver specified (0) (SQLDriverConnect)')\n"
          ]
        },
        {
          "output_type": "error",
          "ename": "AttributeError",
          "evalue": "ignored",
          "traceback": [
            "\u001b[0;31m---------------------------------------------------------------------------\u001b[0m",
            "\u001b[0;31mAttributeError\u001b[0m                            Traceback (most recent call last)",
            "\u001b[0;32m<ipython-input-1-ec605c4f28f8>\u001b[0m in \u001b[0;36m<cell line: 33>\u001b[0;34m()\u001b[0m\n\u001b[1;32m     40\u001b[0m     \u001b[0;31m# Fetch column data types from the SQL Server table\u001b[0m\u001b[0;34m\u001b[0m\u001b[0;34m\u001b[0m\u001b[0m\n\u001b[1;32m     41\u001b[0m     \u001b[0mtable_name\u001b[0m \u001b[0;34m=\u001b[0m \u001b[0;34m\"googleanalytics_sessions\"\u001b[0m  \u001b[0;31m# Update with your table name\u001b[0m\u001b[0;34m\u001b[0m\u001b[0;34m\u001b[0m\u001b[0m\n\u001b[0;32m---> 42\u001b[0;31m     \u001b[0mcursor\u001b[0m\u001b[0;34m.\u001b[0m\u001b[0mexecute\u001b[0m\u001b[0;34m(\u001b[0m\u001b[0;34mf\"SELECT column_name, data_type FROM information_schema.columns WHERE table_name = '{table_name}'\"\u001b[0m\u001b[0;34m)\u001b[0m\u001b[0;34m\u001b[0m\u001b[0;34m\u001b[0m\u001b[0m\n\u001b[0m\u001b[1;32m     43\u001b[0m     \u001b[0mcolumn_data_types\u001b[0m \u001b[0;34m=\u001b[0m \u001b[0;34m{\u001b[0m\u001b[0mrow\u001b[0m\u001b[0;34m[\u001b[0m\u001b[0;36m0\u001b[0m\u001b[0;34m]\u001b[0m\u001b[0;34m:\u001b[0m \u001b[0mrow\u001b[0m\u001b[0;34m[\u001b[0m\u001b[0;36m1\u001b[0m\u001b[0;34m]\u001b[0m \u001b[0;32mfor\u001b[0m \u001b[0mrow\u001b[0m \u001b[0;32min\u001b[0m \u001b[0mcursor\u001b[0m\u001b[0;34m.\u001b[0m\u001b[0mfetchall\u001b[0m\u001b[0;34m(\u001b[0m\u001b[0;34m)\u001b[0m\u001b[0;34m}\u001b[0m\u001b[0;34m\u001b[0m\u001b[0;34m\u001b[0m\u001b[0m\n\u001b[1;32m     44\u001b[0m \u001b[0;34m\u001b[0m\u001b[0m\n",
            "\u001b[0;31mAttributeError\u001b[0m: 'NoneType' object has no attribute 'execute'"
          ]
        }
      ]
    },
    {
      "cell_type": "code",
      "source": [
        "import requests\n",
        "import pyodbc\n",
        "import pandas as pd\n",
        "import json\n",
        "from datetime import datetime\n",
        "\n",
        "start_time = datetime.now()\n",
        "api_url = \"https://connectors.windsor.ai/all?api_key=a08773c49de68206ec3bcbff003f45f1e4d3&date_preset=last_7d&fields=account_name,campaign,date,sessions,source\"\n",
        "database = 'Narma'\n",
        "username = 'sa'\n",
        "password = 'Welcome@#123'\n",
        "server = ''\n",
        "table_name = \"googleanalytics_sessions\"\n",
        "\n",
        "# Specify the ODBC driver and create the connection string\n",
        "db_connection_string = f'DRIVER=ODBC Driver 17 for SQL Server;SERVER={server};DATABASE={database};UID={username};PWD={password}'\n",
        "\n",
        "# Connect to the SQL Server\n",
        "connection = pyodbc.connect(db_connection_string)\n",
        "cursor = connection.cursor()\n",
        "\n",
        "# Fetch data from the JSON API\n",
        "response = requests.get(api_url)\n",
        "results = response.json()\n",
        "\n",
        "# Check if the response is successful\n",
        "if response.status_code == 200:\n",
        "    # Convert JSON data to DataFrame\n",
        "    df = pd.DataFrame(results.get(\"data\", []))\n",
        "\n",
        "    # Handle NaN values\n",
        "    df.fillna(0, inplace=True)\n",
        "\n",
        "    # Fetch column data types from the SQL Server table\n",
        "    cursor.execute(f\"SELECT column_name, data_type FROM information_schema.columns WHERE table_name = '{table_name}'\")\n",
        "    column_data_types = {row[0]: row[1] for row in cursor.fetchall()}\n",
        "\n",
        "    # Adjust DataFrame column types based on SQL Server table\n",
        "    for column_name, data_type in column_data_types.items():\n",
        "        if data_type == 'int':\n",
        "            df[column_name] = df[column_name].astype(int)\n",
        "        elif data_type == 'nvarchar':\n",
        "            df[column_name] = df[column_name].astype(str)\n",
        "\n",
        "    # Insert data into the SQL Server table\n",
        "    for index, row in df.iterrows():\n",
        "        columns = ', '.join(df.columns)\n",
        "        placeholders = ', '.join(['?' for _ in df.columns])\n",
        "        values = [row[column_name] for column_name in df.columns]\n",
        "        insert_statement = f\"INSERT INTO {table_name} ({columns}) VALUES ({placeholders})\"\n",
        "        cursor.execute(insert_statement, values)\n",
        "\n",
        "    # Commit the changes\n",
        "    connection.commit()\n",
        "\n",
        "    print(f\"Data successfully inserted into the table: {table_name}\")\n",
        "else:\n",
        "    print(f\"Error: {response.status_code} - {response.text}\")\n",
        "\n",
        "# Close the cursor and connection\n",
        "cursor.close()\n",
        "connection.close()\n",
        "\n",
        "end_time = datetime.now()\n",
        "elapsed_time = end_time - start_time\n",
        "print(f\"Elapsed time: {elapsed_time}\")\n"
      ],
      "metadata": {
        "colab": {
          "base_uri": "https://localhost:8080/",
          "height": 245
        },
        "id": "ImFunBJ_CS9p",
        "outputId": "e058b237-bd53-42d7-ebc1-7fce628b6666"
      },
      "execution_count": 11,
      "outputs": [
        {
          "output_type": "error",
          "ename": "Error",
          "evalue": "ignored",
          "traceback": [
            "\u001b[0;31m---------------------------------------------------------------------------\u001b[0m",
            "\u001b[0;31mError\u001b[0m                                     Traceback (most recent call last)",
            "\u001b[0;32m<ipython-input-11-3ce36297fed7>\u001b[0m in \u001b[0;36m<cell line: 19>\u001b[0;34m()\u001b[0m\n\u001b[1;32m     17\u001b[0m \u001b[0;34m\u001b[0m\u001b[0m\n\u001b[1;32m     18\u001b[0m \u001b[0;31m# Connect to the SQL Server\u001b[0m\u001b[0;34m\u001b[0m\u001b[0;34m\u001b[0m\u001b[0m\n\u001b[0;32m---> 19\u001b[0;31m \u001b[0mconnection\u001b[0m \u001b[0;34m=\u001b[0m \u001b[0mpyodbc\u001b[0m\u001b[0;34m.\u001b[0m\u001b[0mconnect\u001b[0m\u001b[0;34m(\u001b[0m\u001b[0mdb_connection_string\u001b[0m\u001b[0;34m)\u001b[0m\u001b[0;34m\u001b[0m\u001b[0;34m\u001b[0m\u001b[0m\n\u001b[0m\u001b[1;32m     20\u001b[0m \u001b[0mcursor\u001b[0m \u001b[0;34m=\u001b[0m \u001b[0mconnection\u001b[0m\u001b[0;34m.\u001b[0m\u001b[0mcursor\u001b[0m\u001b[0;34m(\u001b[0m\u001b[0;34m)\u001b[0m\u001b[0;34m\u001b[0m\u001b[0;34m\u001b[0m\u001b[0m\n\u001b[1;32m     21\u001b[0m \u001b[0;34m\u001b[0m\u001b[0m\n",
            "\u001b[0;31mError\u001b[0m: ('01000', \"[01000] [unixODBC][Driver Manager]Can't open lib 'ODBC Driver 17 for SQL Server' : file not found (0) (SQLDriverConnect)\")"
          ]
        }
      ]
    }
  ]
}